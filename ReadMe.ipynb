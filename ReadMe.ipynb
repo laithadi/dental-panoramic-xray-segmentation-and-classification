{
 "cells": [
  {
   "cell_type": "markdown",
   "metadata": {},
   "source": [
    "# Introduction"
   ]
  },
  {
   "cell_type": "markdown",
   "metadata": {},
   "source": [
    "## Link to dataset"
   ]
  },
  {
   "cell_type": "markdown",
   "metadata": {},
   "source": [
    "https://zenodo.org/records/7812323#.ZDQE1uxBwUG "
   ]
  },
  {
   "cell_type": "markdown",
   "metadata": {},
   "source": [
    "## Summary"
   ]
  },
  {
   "cell_type": "markdown",
   "metadata": {},
   "source": [
    "- **DENTEX Challenge Overview:**\n",
    "  - The DENTEX challenge was held in 2023 during MICCAI.\n",
    "  - Its main goal was to develop algorithms for accurately detecting abnormal teeth and providing associated diagnoses on panoramic X-rays, aiding in precise treatment planning and reducing errors.\n",
    "\n",
    "- **Hierarchically Annotated Data:**\n",
    "  - The challenge offers three types of annotated data structured using the FDI system.\n",
    "    1. Partially labeled data with quadrant information.\n",
    "    2. Partially labeled data with quadrant and enumeration information.\n",
    "    3. Fully labeled data containing quadrant-enumeration-diagnosis information for each abnormal tooth. All participant algorithms will be evaluated using this data.\n",
    "\n",
    "- **Purpose of DENTEX:**\n",
    "  - DENTEX aims to evaluate AI effectiveness in dental radiology analysis and its potential to enhance dental practice by comparing algorithms that identify abnormal teeth with enumeration and diagnosis on panoramic X-rays.\n"
   ]
  },
  {
   "cell_type": "markdown",
   "metadata": {},
   "source": [
    "## About the dataset"
   ]
  },
  {
   "cell_type": "markdown",
   "metadata": {},
   "source": [
    "As mentioned in the previous section, the challenge offers three types of annotated data structured using the FDI system.\n",
    "1. Partially labeled data with quadrant information.\n",
    "2. Partially labeled data with quadrant and enumeration information.\n",
    "3. Fully labeled data containing quadrant-enumeration-diagnosis information for each abnormal tooth. All participant algorithms will be evaluated using this data."
   ]
  },
  {
   "cell_type": "markdown",
   "metadata": {},
   "source": [
    "### 1. Partially labeled data with quadrant information (693 X-rays)"
   ]
  },
  {
   "cell_type": "markdown",
   "metadata": {},
   "source": [
    "- Labels: Quadrant information only.\n",
    "- Explanation: Each quadrant is numbered from 1 through 4, with the top right quadrant being 1, top left quadrant being 2, bottom left quadrant being 3, and bottom right quadrant being 4."
   ]
  },
  {
   "cell_type": "markdown",
   "metadata": {},
   "source": [
    "### 2. Partially labeled data with quadrant and enumeratin information (634 X-rays)"
   ]
  },
  {
   "cell_type": "markdown",
   "metadata": {},
   "source": [
    "- Labels: Quadrant and tooth enumeration information.\n",
    "- Explanation: Each tooth within a quadrant is numbered from 1 through 8 according to the FDI numbering system. For instance, the numbering starts from the front middle tooth, and the numbers increase towards the back. Therefore, the back tooth on the lower left side would be labeled as 48 according to the FDI notation, indicating quadrant 4, tooth number 8."
   ]
  },
  {
   "cell_type": "markdown",
   "metadata": {},
   "source": [
    "### 3. Fully labeled data for abnormal tooth detection with quadrant, tooth, enumeration, and diagnosis (1005 X-rays)"
   ]
  },
  {
   "cell_type": "markdown",
   "metadata": {},
   "source": [
    "- Labels: Quadrant, tooth enumeration, and diagnosis information.\n",
    "- Explanation: In addition to quadrant and tooth enumeration information, this dataset includes diagnosis classes such as Caries, Deep caries, Periapical lesions, and Impacted teeth."
   ]
  },
  {
   "cell_type": "markdown",
   "metadata": {},
   "source": [
    "## How we will use the different datasets"
   ]
  },
  {
   "cell_type": "markdown",
   "metadata": {},
   "source": [
    "..."
   ]
  },
  {
   "cell_type": "markdown",
   "metadata": {},
   "source": [
    "# Data"
   ]
  },
  {
   "cell_type": "markdown",
   "metadata": {},
   "source": [
    "## X-rays"
   ]
  },
  {
   "cell_type": "markdown",
   "metadata": {},
   "source": [
    "We will display a couple X-ray images later in the EDA (Exploratory Data Analysis) section. "
   ]
  },
  {
   "cell_type": "markdown",
   "metadata": {},
   "source": [
    "## Annotations"
   ]
  },
  {
   "cell_type": "markdown",
   "metadata": {},
   "source": [
    "The annotation files (jsons) consists of the same root fields or top-level fields.<br>\n",
    "```json\n",
    "{\n",
    "  \"images\": [...],\n",
    "  \"annotations\": [...], \n",
    "  \"categories_1\": [...], -> maps encoded values to quadrant labels 1, 2, 3, 4\n",
    "  \"categories_2\": [...], -> maps encoded values to enumeration labels 1, 2, 3, 4, 5, 6, 7, 8\n",
    "  \"categories_3\": [...] -> maps encoded values to diagnosis labels Impacted, Caries, Periapical Lesion, Deep Caries \n",
    "}"
   ]
  },
  {
   "cell_type": "markdown",
   "metadata": {},
   "source": [
    "Not every annotation files consists of all the root fields above. Depending on the type of data provided in the dataset discussed earlier, some of the root fields might be excluded. "
   ]
  },
  {
   "cell_type": "markdown",
   "metadata": {},
   "source": [
    "### Root field: images "
   ]
  },
  {
   "cell_type": "markdown",
   "metadata": {},
   "source": [
    "The images field consists information about the panoramix X-rays. It is a list of dictionaries, each dictionary representing an X-ray. <br> \n",
    "```json\n",
    "{\n",
    "  \"images\": [\n",
    "    {\n",
    "        \"height\": 1316,\n",
    "        \"width\": 2744,\n",
    "        \"id\": 1,\n",
    "        \"file_name\": \"train_673.png\"\n",
    "    },\n",
    "    {\n",
    "        \"height\": 1504,\n",
    "        \"width\": 2872,\n",
    "        \"id\": 2,\n",
    "        \"file_name\": \"train_283.png\"\n",
    "    },\n",
    "    ...\n",
    "  ],\n",
    "  \"annotations\": [...], \n",
    "  \"categories_1\": [...], \n",
    "  \"categories_2\": [...], \n",
    "  \"categories_3\": [...] \n",
    "}"
   ]
  },
  {
   "cell_type": "markdown",
   "metadata": {},
   "source": [
    "### Root field: annotations"
   ]
  },
  {
   "cell_type": "markdown",
   "metadata": {},
   "source": [
    "The annotations field consists of the annotations for each image. It is a list of dictionaries, each dictionary represents the annotations an image. <br>\n",
    "Note: It is important to know that there could be more than one annotations dictionary/object for an image. Since a single image can consist of multiple labels. \n",
    "```json\n",
    "{\n",
    "  \"images\": [...],\n",
    "  \"annotations\": [\n",
    "    {\n",
    "        \"iscrowd\": 0,\n",
    "        \"image_id\": 1,\n",
    "        \"bbox\": [\n",
    "            542.0,\n",
    "            698.0,\n",
    "            220.0,\n",
    "            271.0\n",
    "        ],\n",
    "        \"segmentation\": [\n",
    "            [\n",
    "                621,\n",
    "                703,\n",
    "                573,\n",
    "                744,\n",
    "                542,\n",
    "                885,\n",
    "                580,\n",
    "                945,\n",
    "                650,\n",
    "                969,\n",
    "                711,\n",
    "                883,\n",
    "                762,\n",
    "                807,\n",
    "                748,\n",
    "                741,\n",
    "                649,\n",
    "                698\n",
    "            ]\n",
    "        ],\n",
    "        \"id\": 1,\n",
    "        \"area\": 39683,\n",
    "        \"category_id_1\": 3,\n",
    "        \"category_id_2\": 7,\n",
    "        \"category_id_3\": 0\n",
    "    },\n",
    "    ...\n",
    "  ], \n",
    "  \"categories_1\": [...],\n",
    "  \"categories_2\": [...], \n",
    "  \"categories_3\": [...] \n",
    "}"
   ]
  },
  {
   "cell_type": "markdown",
   "metadata": {},
   "source": [
    "### "
   ]
  },
  {
   "cell_type": "markdown",
   "metadata": {},
   "source": [
    "### Root field: categories_1"
   ]
  },
  {
   "cell_type": "markdown",
   "metadata": {},
   "source": [
    "Maps encoded values to class labels. \n",
    "```json\n",
    "{\n",
    "  \"images\": [...],\n",
    "  \"annotations\": [...], \n",
    "  \"categories_1\": [\n",
    "    {\n",
    "        \"id\": 0,\n",
    "        \"name\": \"1\",\n",
    "        \"supercategory\": \"1\"\n",
    "    },\n",
    "    {\n",
    "        \"id\": 1,\n",
    "        \"name\": \"2\",\n",
    "        \"supercategory\": \"2\"\n",
    "    },\n",
    "    {\n",
    "        \"id\": 2,\n",
    "        \"name\": \"3\",\n",
    "        \"supercategory\": \"3\"\n",
    "    },\n",
    "    {\n",
    "        \"id\": 3,\n",
    "        \"name\": \"4\",\n",
    "        \"supercategory\": \"4\"\n",
    "    }\n",
    "  ], \n",
    "  \"categories_2\": [...], \n",
    "  \"categories_3\": [...] \n",
    "}"
   ]
  },
  {
   "cell_type": "markdown",
   "metadata": {},
   "source": [
    "### Root field: categories_2"
   ]
  },
  {
   "cell_type": "markdown",
   "metadata": {},
   "source": [
    "Maps encoded values to class labels. \n",
    "```json\n",
    "{\n",
    "  \"images\": [...],\n",
    "  \"annotations\": [...], \n",
    "  \"categories_1\": [...], \n",
    "  \"categories_2\": [\n",
    "    {\n",
    "        \"id\": 0,\n",
    "        \"name\": \"1\",\n",
    "        \"supercategory\": \"1\"\n",
    "    },\n",
    "    {\n",
    "        \"id\": 1,\n",
    "        \"name\": \"2\",\n",
    "        \"supercategory\": \"2\"\n",
    "    },\n",
    "    {\n",
    "        \"id\": 2,\n",
    "        \"name\": \"3\",\n",
    "        \"supercategory\": \"3\"\n",
    "    },\n",
    "    {\n",
    "        \"id\": 3,\n",
    "        \"name\": \"4\",\n",
    "        \"supercategory\": \"4\"\n",
    "    },\n",
    "    {\n",
    "        \"id\": 4,\n",
    "        \"name\": \"5\",\n",
    "        \"supercategory\": \"5\"\n",
    "    },\n",
    "    {\n",
    "        \"id\": 5,\n",
    "        \"name\": \"6\",\n",
    "        \"supercategory\": \"6\"\n",
    "    },\n",
    "    {\n",
    "        \"id\": 6,\n",
    "        \"name\": \"7\",\n",
    "        \"supercategory\": \"7\"\n",
    "    },\n",
    "    {\n",
    "        \"id\": 7,\n",
    "        \"name\": \"8\",\n",
    "        \"supercategory\": \"8\"\n",
    "    }\n",
    "  ], \n",
    "  \"categories_3\": [...] \n",
    "}"
   ]
  },
  {
   "cell_type": "markdown",
   "metadata": {},
   "source": [
    "### Root field: categories_3"
   ]
  },
  {
   "cell_type": "markdown",
   "metadata": {},
   "source": [
    "Maps encoded values to class labels. \n",
    "```json\n",
    "{\n",
    "  \"images\": [...],\n",
    "  \"annotations\": [...], \n",
    "  \"categories_1\": [...], \n",
    "  \"categories_2\": [...], \n",
    "  \"categories_3\": [\n",
    "    {\n",
    "        \"id\": 0,\n",
    "        \"name\": \"Impacted\",\n",
    "        \"supercategory\": \"Impacted\"\n",
    "    },\n",
    "    {\n",
    "        \"id\": 1,\n",
    "        \"name\": \"Caries\",\n",
    "        \"supercategory\": \"Caries\"\n",
    "    },\n",
    "    {\n",
    "        \"id\": 2,\n",
    "        \"name\": \"Periapical Lesion\",\n",
    "        \"supercategory\": \"Periapical Lesion\"\n",
    "    },\n",
    "    {\n",
    "        \"id\": 3,\n",
    "        \"name\": \"Deep Caries\",\n",
    "        \"supercategory\": \"Deep Caries\"\n",
    "    }\n",
    "  ] \n",
    "}"
   ]
  },
  {
   "cell_type": "markdown",
   "metadata": {},
   "source": [
    "# Method"
   ]
  },
  {
   "cell_type": "markdown",
   "metadata": {},
   "source": [
    "..."
   ]
  },
  {
   "cell_type": "markdown",
   "metadata": {},
   "source": []
  }
 ],
 "metadata": {
  "kernelspec": {
   "display_name": "st940_final_project_venv",
   "language": "python",
   "name": "python3"
  },
  "language_info": {
   "codemirror_mode": {
    "name": "ipython",
    "version": 3
   },
   "file_extension": ".py",
   "mimetype": "text/x-python",
   "name": "python",
   "nbconvert_exporter": "python",
   "pygments_lexer": "ipython3",
   "version": "3.12.2"
  }
 },
 "nbformat": 4,
 "nbformat_minor": 2
}
